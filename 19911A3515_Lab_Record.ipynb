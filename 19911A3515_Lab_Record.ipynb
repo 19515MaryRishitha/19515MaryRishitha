{
  "nbformat": 4,
  "nbformat_minor": 0,
  "metadata": {
    "colab": {
      "name": "19911A3515 Lab Record.ipynb",
      "provenance": [],
      "authorship_tag": "ABX9TyNW4EtHTGGp3ek7FCaBkUPa",
      "include_colab_link": true
    },
    "kernelspec": {
      "name": "python3",
      "display_name": "Python 3"
    },
    "language_info": {
      "name": "python"
    }
  },
  "cells": [
    {
      "cell_type": "markdown",
      "metadata": {
        "id": "view-in-github",
        "colab_type": "text"
      },
      "source": [
        "<a href=\"https://colab.research.google.com/github/19515MaryRishitha/19515MaryRishitha/blob/main/19911A3515_Lab_Record.ipynb\" target=\"_parent\"><img src=\"https://colab.research.google.com/assets/colab-badge.svg\" alt=\"Open In Colab\"/></a>"
      ]
    },
    {
      "cell_type": "markdown",
      "metadata": {
        "id": "kbA25ZbBF0Rj"
      },
      "source": [
        "#**Exercise 01**"
      ]
    },
    {
      "cell_type": "markdown",
      "metadata": {
        "id": "nSues0CbGKbj"
      },
      "source": [
        "**a) Installation and Environment Setup of Python**"
      ]
    },
    {
      "cell_type": "markdown",
      "metadata": {
        "id": "AEhaKocaGmnH"
      },
      "source": [
        "**b.)Write a program to demonstrate the use of basic data types**"
      ]
    },
    {
      "cell_type": "code",
      "metadata": {
        "colab": {
          "base_uri": "https://localhost:8080/"
        },
        "id": "WCWV5LGwGrSc",
        "outputId": "2411e6c8-13ec-4201-e972-f64cc0fe74eb"
      },
      "source": [
        "1.#NUMERIC\n",
        "#1.a)int\n",
        "a=int(input(\"enter num\"))\n",
        "b=int(input(\"enter num\"))\n",
        "c=a+b\n",
        "print(\"sum is\",c)\n",
        "print(type(c))\n",
        "print(\".......\")\n",
        "#1.b)float\n",
        "a=float(input(\"enter num\"))\n",
        "b=float(input(\"enter num\"))\n",
        "c=a+b\n",
        "print(\"sum is\",c)\n",
        "print(type(c))\n",
        "print(\".......\")\n",
        "#1.c)complex\n",
        "a=complex(input(\"enter num\"))\n",
        "b=complex(input(\"enter num\"))\n",
        "c=a+b\n",
        "print(\"sum is\",c)\n",
        "print(type(c))\n",
        "print(\"_____________\")\n",
        "#2.BOOLEAN\n",
        "print(10 > 9)\n",
        "print(10 == 9)\n",
        "print(10 < 9)\n",
        "print(\"_____________\")\n",
        "#3.SET\n",
        "Set = {1, 2, 3}# set of integers\n",
        "print(Set)\n",
        "Set = {1.0, \"Hello\", (1, 2, 3)}# set of mixed datatypes\n",
        "print(Set)\n",
        "print(type(Set))\n",
        "print(\"_____________\")\n",
        "#4.SEQUENCE TYPE\n",
        "#4.a)Strings\n",
        "my_string = \"Hello\"\n",
        "print(my_string)\n",
        "my_string = \"\"\"Hello, I'm Rishitha     \n",
        "           from Artificial intelligence\"\"\"\n",
        "print(my_string)# triple quotes string can extend multiple lines\n",
        "print(my_string[0:16])\n",
        "print(my_string[:-10])\n",
        "print(type(my_string))\n",
        "print(\".......\")\n",
        "#4.b)list\n",
        "my_list = ['a','b','c','d','e']\n",
        "print(my_list)\n",
        "print(my_list[2])\n",
        "print(my_list[-1])\n",
        "print(type(my_list))\n",
        "print(\".......\")\n",
        "#4.c)Tuple\n",
        "tup=('Jubbu','surya','shiva','rishi','shrav','spoorthy')\n",
        "print(tup)\n",
        "print(tup[0])\n",
        "print(tup[1:4])\n",
        "print(type(tup))\n",
        "print(\"_____________\")\n",
        "#5.DICTIONARY\n",
        "my_dict = {'name': 'Rishitha', 'age': 20}\n",
        "print(my_dict)\n",
        "print(my_dict['name'])\n",
        "print(my_dict.get('age'))\n",
        "print(type(my_dict))"
      ],
      "execution_count": null,
      "outputs": [
        {
          "output_type": "stream",
          "text": [
            "enter num12\n",
            "enter num25\n",
            "sum is 37\n",
            "<class 'int'>\n",
            ".......\n",
            "enter num35\n",
            "enter num25\n",
            "sum is 60.0\n",
            "<class 'float'>\n",
            ".......\n",
            "enter num258\n",
            "enter num36\n",
            "sum is (294+0j)\n",
            "<class 'complex'>\n",
            "_____________\n",
            "True\n",
            "False\n",
            "False\n",
            "_____________\n",
            "{1, 2, 3}\n",
            "{1.0, 'Hello', (1, 2, 3)}\n",
            "<class 'set'>\n",
            "_____________\n",
            "Hello\n",
            "Hello, I'm Rishitha     \n",
            "           from Artificial intelligence\n",
            "Hello, I'm Rishi\n",
            "Hello, I'm Rishitha     \n",
            "           from Artificial in\n",
            "<class 'str'>\n",
            ".......\n",
            "['a', 'b', 'c', 'd', 'e']\n",
            "c\n",
            "e\n",
            "<class 'list'>\n",
            ".......\n",
            "('Jubbu', 'surya', 'shiva', 'rishi', 'shrav', 'spoorthy')\n",
            "Jubbu\n",
            "('surya', 'shiva', 'rishi')\n",
            "<class 'tuple'>\n",
            "_____________\n",
            "{'name': 'Rishitha', 'age': 20}\n",
            "Rishitha\n",
            "20\n",
            "<class 'dict'>\n"
          ],
          "name": "stdout"
        }
      ]
    },
    {
      "cell_type": "markdown",
      "metadata": {
        "id": "uDaUdvLCHASv"
      },
      "source": [
        "**c)** ***Write a program to demonstrate the operators and expressions***"
      ]
    },
    {
      "cell_type": "code",
      "metadata": {
        "colab": {
          "base_uri": "https://localhost:8080/"
        },
        "id": "ZzKHTe28HHZj",
        "outputId": "9da636e7-8885-4b86-ce23-985410169e83"
      },
      "source": [
        "#1.OPERATORS\n",
        "#1.a)Arithmetic operators\n",
        "a = int(input(\"Enter a number\"))\n",
        "b = int(input(\"Enter a number\"))\n",
        "add = a + b # Addition of numbers \n",
        "sub = a - b # Subtraction of numbers \n",
        "mul = a * b # Multiplication of number \n",
        "div1 = a / b # Division(float) of number \n",
        "div2 = a // b # Division(floor) of number \n",
        "mod = a % b # Modulo of both number \n",
        "p = a ** b# Power\n",
        "print(add) \n",
        "print(sub) \n",
        "print(mul) \n",
        "print(div1) \n",
        "print(div2) \n",
        "print(mod)\n",
        "print(p)\n",
        "print(\"..................\")\n",
        "#1.b)Relational operators\n",
        "print(a > b)\n",
        "print(a < b)\n",
        "print(a == b)\n",
        "print(a != b)\n",
        "print(a >= b)\n",
        "print(a <= b)\n",
        "print(\"..................\")\n",
        "#1.c)Bitwise operators\n",
        "print(a & b)#bitwise AND operation  \n",
        "print(a | b)#bitwise OR operation\n",
        "print(~a)#bitwise NOT operation \n",
        "print(a ^ b)#bitwise XOR operation \n",
        "print(a >> 2)#bitwise right shift operation \n",
        "print(a << 2)#bitwise left shift operation\n",
        "print(\"..................\")\n",
        "#1.d)Identity operators\n",
        "print(a is not b) \n",
        "print(a is b)\n",
        "print(\"..................\")\n",
        "#1.e)Logical operators\n",
        "S=True\n",
        "T=False\n",
        "print(S and T)\n",
        "print(S or T)\n",
        "print(not S)\n",
        "print(not T)\n",
        "print(\"..................\")\n",
        "#1.f)Assignment operators\n",
        "a+=b\n",
        "print(a)\n",
        "a-=b\n",
        "print(a)\n",
        "a*=b\n",
        "print(a)\n",
        "a/=b\n",
        "print(a)\n",
        "a%=b\n",
        "print(a)\n",
        "a//=b\n",
        "print(a)\n",
        "a**=b\n",
        "print(a)\n",
        "print(\"..................\")\n",
        "#1.g)Membership operators\n",
        "x = 'Dept of Artificial intelligence'\n",
        "y = {1:'a',2:'b'}\n",
        "print('D' in x)\n",
        "print('of' not in x)\n",
        "print('Of' not in x)\n",
        "print(1 in y)\n",
        "print('e' in y)"
      ],
      "execution_count": null,
      "outputs": [
        {
          "output_type": "stream",
          "text": [
            "Enter a number25\n",
            "Enter a number36\n",
            "61\n",
            "-11\n",
            "900\n",
            "0.6944444444444444\n",
            "0\n",
            "25\n",
            "211758236813575084767080625169910490512847900390625\n",
            "..................\n",
            "False\n",
            "True\n",
            "False\n",
            "True\n",
            "False\n",
            "True\n",
            "..................\n",
            "0\n",
            "61\n",
            "-26\n",
            "61\n",
            "6\n",
            "100\n",
            "..................\n",
            "True\n",
            "False\n",
            "..................\n",
            "False\n",
            "True\n",
            "False\n",
            "True\n",
            "..................\n",
            "61\n",
            "25\n",
            "900\n",
            "25.0\n",
            "25.0\n",
            "0.0\n",
            "0.0\n",
            "..................\n",
            "True\n",
            "False\n",
            "True\n",
            "True\n",
            "False\n"
          ],
          "name": "stdout"
        }
      ]
    },
    {
      "cell_type": "markdown",
      "metadata": {
        "id": "Kf-ls-_CHUuJ"
      },
      "source": [
        "**d)** ***python program to demonstrate functions and parameter passing techniques***"
      ]
    },
    {
      "cell_type": "code",
      "metadata": {
        "colab": {
          "base_uri": "https://localhost:8080/"
        },
        "id": "oN8KU4_NHZap",
        "outputId": "d3dd9c7d-1e66-490e-c14d-4311e6e40f36"
      },
      "source": [
        "#function without any parameters\n",
        "def my_function():#creating a function\n",
        "  print(\"Hi!I'm from Artificial intelligence\")\n",
        "my_function()#calling a function\n",
        "print(\"..................\")\n",
        "#function with parameters\n",
        "def my_dept(dept):\n",
        "  print(\"Hi!I'm from \"+dept)\n",
        "my_dept(\"Artificial intelligence\")\n",
        "my_dept(\"Computer science\")\n",
        "my_dept(\"Machine learning\")"
      ],
      "execution_count": null,
      "outputs": [
        {
          "output_type": "stream",
          "text": [
            "Hi!I'm from Artificial intelligence\n",
            "..................\n",
            "Hi!I'm from Artificial intelligence\n",
            "Hi!I'm from Computer science\n",
            "Hi!I'm from Machine learning\n"
          ],
          "name": "stdout"
        }
      ]
    },
    {
      "cell_type": "markdown",
      "metadata": {
        "id": "QNYWWAWRHfPS"
      },
      "source": [
        "# **Exercise: 02**"
      ]
    },
    {
      "cell_type": "markdown",
      "metadata": {
        "id": "DmmiX7aFHndB"
      },
      "source": [
        "**a)** **Write a program to implement**\n",
        "\n",
        "1.   **packages**\n",
        "2.   **modules**\n",
        "\n",
        "1.   **built-in**"
      ]
    },
    {
      "cell_type": "code",
      "metadata": {
        "colab": {
          "base_uri": "https://localhost:8080/"
        },
        "id": "iLxOoX3MHrvh",
        "outputId": "d7221624-65de-46ae-81e6-419b893ef05e"
      },
      "source": [
        "#1.Absolute\n",
        "print(\"ABSOLUTE\")\n",
        "print('Absolute of -10.589 = ', abs(-10.589))\n",
        "#2.Binary\n",
        "print(\"BINARY\")\n",
        "print(\"Binary Equalent of 16\", bin(16))\n",
        "#3.Quotient and remainder\n",
        "print(\"QUOTIENT AND REMAINDER\")\n",
        "print(\"Quotient and remainder of 10/5 = \" , divmod(10,5))\n",
        "#4.Float\n",
        "print(\"FLOAT\")\n",
        "print(\"float value of 10 = \", float(10))\n",
        "#5.Int\n",
        "print(\"INT\")\n",
        "print(\"int value of 10.2 =\", int(10.2))\n",
        "#6.Max\n",
        "print(\"MAX\")\n",
        "print(\"Maximum of 10,20,30 = \", max(10,20,30))\n",
        "#7.Min\n",
        "print(\"MIN\")\n",
        "print(\"Minimum of 10,20,30 = \", min(10,20,30))\n",
        "#8.Power\n",
        "print(\"POWER\")\n",
        "print(\"2 power 4 = \", pow(2,4))\n",
        "#9.Evaluate\n",
        "print(\"EVALUATE\")\n",
        "x=2\n",
        "print(\"Evaluate value of x**2 = \",eval('x**2'))\n",
        "import math\n",
        "#9.Square root\n",
        "print(\"SQUARE ROOT\")\n",
        "print(\"Square root of 25 = \" ,math.sqrt(25))\n"
      ],
      "execution_count": null,
      "outputs": [
        {
          "output_type": "stream",
          "text": [
            "ABSOLUTE\n",
            "Absolute of -10.589 =  10.589\n",
            "BINARY\n",
            "Binary Equalent of 16 0b10000\n",
            "QUOTIENT AND REMAINDER\n",
            "Quotient and remainder of 10/5 =  (2, 0)\n",
            "FLOAT\n",
            "float value of 10 =  10.0\n",
            "INT\n",
            "int value of 10.2 = 10\n",
            "MAX\n",
            "Maximum of 10,20,30 =  30\n",
            "MIN\n",
            "Minimum of 10,20,30 =  10\n",
            "POWER\n",
            "2 power 4 =  16\n",
            "EVALUATE\n",
            "Evaluate value of x**2 =  4\n",
            "SQUARE ROOT\n",
            "Square root of 25 =  5.0\n"
          ],
          "name": "stdout"
        }
      ]
    },
    {
      "cell_type": "markdown",
      "metadata": {
        "id": "GO408ldmH00O"
      },
      "source": [
        "**b)** **Write a program to implement**\n",
        "\n",
        "1.   **list**\n",
        "2.   **tuple**\n",
        "\n",
        "1.   **dictionaries**"
      ]
    },
    {
      "cell_type": "code",
      "metadata": {
        "colab": {
          "base_uri": "https://localhost:8080/"
        },
        "id": "CBJB9LJdH5gS",
        "outputId": "0e57a009-aea5-4446-8bed-d077e88e05d2"
      },
      "source": [
        "#1)list\n",
        "my_list = ['a','b','c','d','e']\n",
        "print(my_list)\n",
        "print(my_list[2])\n",
        "print(my_list[-1])\n",
        "print(my_list[1:3])\n",
        "print(my_list[ :3])\n",
        "print(my_list[1:])\n",
        "print(my_list[:-3])\n",
        "print(my_list[-1:])\n",
        "print(type(my_list))\n",
        "print(\"_____________\")\n",
        "#2)Tuple\n",
        "tup=('jubbu','surya','trisha','rishi','shrav','spoorthy')\n",
        "tup1=(5,6)\n",
        "tup2=(1,8)\n",
        "print(tup)\n",
        "print(tup[0])\n",
        "print(tup[1:4])\n",
        "print(tup[:3])\n",
        "print(tup[2:])\n",
        "print(tup[:-2])\n",
        "print(tup[-1:])\n",
        "if (tup1>tup2):print( \"tup1 is bigger\")\n",
        "else: print(\"tup2 is bigger\")\n",
        "print(type(tup))\n",
        "print(\"_____________\")\n",
        "#3)DICTIONARY\n",
        "my_dict = {'name': 'rishitha', 'age': 18}\n",
        "print(my_dict)\n",
        "print(my_dict['name'])\n",
        "print(my_dict.get('age'))\n",
        "my_dict.update({'Branch':'Aie','marks':20})\n",
        "print(my_dict)\n",
        "del my_dict['marks']\n",
        "print(my_dict)\n",
        "my_dict['marks']='20'\n",
        "print(my_dict)\n",
        "my_dict.pop(\"marks\")\n",
        "print(my_dict)\n",
        "print(type(my_dict))"
      ],
      "execution_count": null,
      "outputs": [
        {
          "output_type": "stream",
          "text": [
            "['a', 'b', 'c', 'd', 'e']\n",
            "c\n",
            "e\n",
            "['b', 'c']\n",
            "['a', 'b', 'c']\n",
            "['b', 'c', 'd', 'e']\n",
            "['a', 'b']\n",
            "['e']\n",
            "<class 'list'>\n",
            "_____________\n",
            "('jubbu', 'surya', 'trisha', 'rishi', 'shrav', 'spoorthy')\n",
            "jubbu\n",
            "('surya', 'trisha', 'rishi')\n",
            "('jubbu', 'surya', 'trisha')\n",
            "('trisha', 'rishi', 'shrav', 'spoorthy')\n",
            "('jubbu', 'surya', 'trisha', 'rishi')\n",
            "('spoorthy',)\n",
            "tup1 is bigger\n",
            "<class 'tuple'>\n",
            "_____________\n",
            "{'name': 'rishitha', 'age': 18}\n",
            "rishitha\n",
            "18\n",
            "{'name': 'rishitha', 'age': 18, 'Branch': 'Aie', 'marks': 20}\n",
            "{'name': 'rishitha', 'age': 18, 'Branch': 'Aie'}\n",
            "{'name': 'rishitha', 'age': 18, 'Branch': 'Aie', 'marks': '20'}\n",
            "{'name': 'rishitha', 'age': 18, 'Branch': 'Aie'}\n",
            "<class 'dict'>\n"
          ],
          "name": "stdout"
        }
      ]
    },
    {
      "cell_type": "markdown",
      "metadata": {
        "id": "8GmbesOSIDfH"
      },
      "source": [
        "**c)** ***Program on Strings,string operations and regular expression***"
      ]
    },
    {
      "cell_type": "code",
      "metadata": {
        "colab": {
          "base_uri": "https://localhost:8080/"
        },
        "id": "m_SoXTyhIIow",
        "outputId": "d5102f06-ccea-4743-d504-b86c342c9fb1"
      },
      "source": [
        "#1)Strings\n",
        "my_string = \"Hello\"\n",
        "print(my_string)\n",
        "my_string = \"\"\"Hello, I'm Rishitha     \n",
        "           from Artificial intelligence\"\"\"\n",
        "print(my_string)# triple quotes string can extend multiple lines\n",
        "print(\"STRING SLICING\")\n",
        "print(my_string[12])\n",
        "print(my_string[-5])\n",
        "print(my_string[0:16])\n",
        "print(my_string[ :16])\n",
        "print(my_string[12:])\n",
        "print(my_string[:-10])\n",
        "print(my_string[-4:])\n",
        "print(type(my_string))\n",
        "print(\"................\")\n",
        "print(\"STRING OPERATIONS\")\n",
        "s=\"Hi I'm Rishitha from artificial intelligence\"\n",
        "t=\"Hi\"\n",
        "print(len(str(s)))#finding length of the string\n",
        "print(s.capitalize())#capitalizing first letter of sting\n",
        "print(s.count('i',0,28))#repetation\n",
        "print(s.index(\"f\",12,28))#index finding\n",
        "print(s.isalnum())#checks if there are only alpabets and nums\n",
        "print(s.endswith(\"o\",0,5))#checks if it ends with give alphabet\n",
        "print(s.find(\"from arti\"))\n",
        "print(s.isupper())\n",
        "print(s.islower())\n",
        "print(s.isspace())\n",
        "print(s.istitle())\n",
        "print(t.join(t))\n",
        "print(s.partition(\"from\"))\n",
        "print(s.replace(\"intelligence\",\"engineering\"))\n",
        "print(\"_____________________\")\n",
        "#2)Regular expressions\n",
        "#match\n",
        "import re\n",
        "Name = r\"Rishitha\"\n",
        "last_name = \"Rishitha\"\n",
        "if re.match(Name,last_name):\n",
        "  print(\"Match!\")\n",
        "else: \n",
        "  print(\"Not a match!\")\n",
        "#findall\n",
        "S =\"Hi I'm Rishitha from artificial intelligence\"\n",
        "# findall('Pattern', \"string\")\n",
        "x = re.findall('[abc]' , S )\n",
        "y=re.findall('[a-c]', S)\n",
        "z=re.findall('^[a-c]', S)\n",
        "t= re.findall('a*', S)\n",
        "v= re.findall('[a-e]*', S)\n",
        "n= re.findall('[A-Z][a-z]*', s)\n",
        "print(x)\n",
        "print(y)\n",
        "print(z)\n",
        "print(t)\n",
        "print(v)\n",
        "print(n)\n",
        "#search(\"Pattern\", string)\n",
        "if re.search('a*', S):\n",
        "  print(\"Found\")\n",
        "else:\n",
        "  print(\"Not found\")\n",
        "#split\n",
        "text=\"Hi I'm  Rishitha from artificial intelligence\"\n",
        "result = re.split('[a-e]',text)\n",
        "print(result)"
      ],
      "execution_count": null,
      "outputs": [
        {
          "output_type": "stream",
          "text": [
            "Hello\n",
            "Hello, I'm Rishitha     \n",
            "           from Artificial intelligence\n",
            "STRING SLICING\n",
            "i\n",
            "g\n",
            "Hello, I'm Rishi\n",
            "Hello, I'm Rishi\n",
            "ishitha     \n",
            "           from Artificial intelligence\n",
            "Hello, I'm Rishitha     \n",
            "           from Artificial in\n",
            "ence\n",
            "<class 'str'>\n",
            "................\n",
            "STRING OPERATIONS\n",
            "44\n",
            "Hi i'm rishitha from artificial intelligence\n",
            "5\n",
            "16\n",
            "False\n",
            "False\n",
            "16\n",
            "False\n",
            "False\n",
            "False\n",
            "False\n",
            "HHii\n",
            "(\"Hi I'm Rishitha \", 'from', ' artificial intelligence')\n",
            "Hi I'm Rishitha from artificial engineering\n",
            "_____________________\n",
            "Match!\n",
            "['a', 'a', 'c', 'a', 'c']\n",
            "['a', 'a', 'c', 'a', 'c']\n",
            "[]\n",
            "['', '', '', '', '', '', '', '', '', '', '', '', '', '', 'a', '', '', '', '', '', '', 'a', '', '', '', '', '', '', '', 'a', '', '', '', '', '', '', '', '', '', '', '', '', '', '', '']\n",
            "['', '', '', '', '', '', '', '', '', '', '', '', '', '', 'a', '', '', '', '', '', '', 'a', '', '', '', '', '', 'c', '', 'a', '', '', '', '', '', 'e', '', '', '', '', 'e', '', 'ce', '']\n",
            "['Hi', 'I', 'Rishitha']\n",
            "Found\n",
            "[\"Hi I'm  Rishith\", ' from ', 'rtifi', 'i', 'l int', 'llig', 'n', '', '']\n"
          ],
          "name": "stdout"
        }
      ]
    },
    {
      "cell_type": "markdown",
      "metadata": {
        "id": "QGnX-A5TIXVy"
      },
      "source": [
        "#**Exercise: 03**"
      ]
    },
    {
      "cell_type": "markdown",
      "metadata": {
        "id": "MqAi1VlYIlW2"
      },
      "source": [
        "**a)** ***Write a program to implement Class and Object***"
      ]
    },
    {
      "cell_type": "code",
      "metadata": {
        "colab": {
          "base_uri": "https://localhost:8080/"
        },
        "id": "LmrJSmfLImG-",
        "outputId": "02f71568-7be7-4518-ba5f-e2e449ba8905"
      },
      "source": [
        "#classes and objects without constructor\n",
        "print(\"WITHOUT CONSTRUCTOR\")\n",
        "class person:\n",
        "    pass\n",
        "male=person()#object1\n",
        "female=person()#object2\n",
        "male.name='chinna'\n",
        "male.age=24\n",
        "female.name='rishitha'\n",
        "female.age=18\n",
        "print(male.__dict__)\n",
        "print(female.age)\n",
        "print(female.__dict__)\n",
        "#classes and objects with constructor\n",
        "print(\"WITH CONSTRUCTOR\")\n",
        "class person:\n",
        "    def __init__(self,name,age):\n",
        "        self.name=name\n",
        "        self.age=age\n",
        "male=person('chinna',24)\n",
        "female=person('rishitha',18)\n",
        "male.lastname='gayam'\n",
        "print(male.__dict__)#dict keyword gives all d info about object\n",
        "print(female.age)\n",
        "print(female.__dict__)"
      ],
      "execution_count": null,
      "outputs": [
        {
          "output_type": "stream",
          "text": [
            "WITHOUT CONSTRUCTOR\n",
            "{'name': 'chinna', 'age': 24}\n",
            "18\n",
            "{'name': 'rishitha', 'age': 18}\n",
            "WITH CONSTRUCTOR\n",
            "{'name': 'chinna', 'age': 24, 'lastname': 'gayam'}\n",
            "18\n",
            "{'name': 'rishitha', 'age': 18}\n"
          ],
          "name": "stdout"
        }
      ]
    },
    {
      "cell_type": "markdown",
      "metadata": {
        "id": "3bqSQJIVJC68"
      },
      "source": [
        "**b)** ***Write a program to implement static and instance methods,Abstract classes and interfaces .***"
      ]
    },
    {
      "cell_type": "code",
      "metadata": {
        "colab": {
          "base_uri": "https://localhost:8080/"
        },
        "id": "18szzKpnJIUT",
        "outputId": "f37f62a1-9009-49bf-d9e4-6d879b6407a4"
      },
      "source": [
        "# Python program showing\n",
        "# abstract base class work\n",
        "\n",
        "from abc import ABC, abstractmethod\n",
        "\n",
        "class Polygon(ABC):\n",
        "\n",
        "\t@abstractmethod\n",
        "\tdef noofsides(self):\n",
        "\t\tpass\n",
        "\n",
        "class Triangle(Polygon):\n",
        "\n",
        "\t# overriding abstract method\n",
        "\tdef noofsides(self):\n",
        "\t\tprint(\"I have 3 sides\")\n",
        "\n",
        "class Pentagon(Polygon):\n",
        "\n",
        "\t# overriding abstract method\n",
        "\tdef noofsides(self):\n",
        "\t\tprint(\"I have 5 sides\")\n",
        "\n",
        "class Hexagon(Polygon):\n",
        "\n",
        "\t# overriding abstract method\n",
        "\tdef noofsides(self):\n",
        "\t\tprint(\"I have 6 sides\")\n",
        "\n",
        "class Quadrilateral(Polygon):\n",
        "\n",
        "\t# overriding abstract method\n",
        "\tdef noofsides(self):\n",
        "\t\tprint(\"I have 4 sides\")\n",
        "\n",
        "# Driver code\n",
        "R = Triangle()\n",
        "R.noofsides()\n",
        "\n",
        "K = Quadrilateral()\n",
        "K.noofsides()\n",
        "\n",
        "R = Pentagon()\n",
        "R.noofsides()\n",
        "\n",
        "K = Hexagon()\n",
        "K.noofsides()\n"
      ],
      "execution_count": null,
      "outputs": [
        {
          "output_type": "stream",
          "text": [
            "I have 3 sides\n",
            "I have 4 sides\n",
            "I have 5 sides\n",
            "I have 6 sides\n"
          ],
          "name": "stdout"
        }
      ]
    },
    {
      "cell_type": "markdown",
      "metadata": {
        "id": "LoDf1ngTuK1h"
      },
      "source": [
        "**c)** **Write a program to compute distance between two points taking input from the user(pythagorean theorm)**"
      ]
    },
    {
      "cell_type": "code",
      "metadata": {
        "colab": {
          "base_uri": "https://localhost:8080/"
        },
        "id": "tWehkdAluLya",
        "outputId": "a260c009-1526-4419-b488-199e8e919857"
      },
      "source": [
        "x1=int(input(\"enter x1 : \"))\n",
        "x2=int(input(\"enter x2 : \"))\n",
        "y1=int(input(\"enter y1 : \"))\n",
        "y2=int(input(\"enter y2 : \"))\n",
        "result= ((((x2 - x1 )**2) + ((y2-y1)**2) )**0.5)\n",
        "print(\"distance between\",(x1,x2),\"and\",(y1,y2),\"is : \",result)"
      ],
      "execution_count": null,
      "outputs": [
        {
          "output_type": "stream",
          "text": [
            "enter x1 : 25\n",
            "enter x2 : 36\n",
            "enter y1 : 25\n",
            "enter y2 : 64\n",
            "distance between (25, 36) and (25, 64) is :  40.52159917870962\n"
          ],
          "name": "stdout"
        }
      ]
    },
    {
      "cell_type": "markdown",
      "metadata": {
        "id": "nLHQWEtduWVf"
      },
      "source": [
        "# **Exercise: 04**"
      ]
    },
    {
      "cell_type": "markdown",
      "metadata": {
        "id": "PB-ss-bQujla"
      },
      "source": [
        "**a)** **Write a program to implement inheritence and polymorphism**"
      ]
    },
    {
      "cell_type": "code",
      "metadata": {
        "colab": {
          "base_uri": "https://localhost:8080/"
        },
        "id": "lW1JyHReuoWa",
        "outputId": "76d568bf-a018-42ec-e29e-ba73fe047e16"
      },
      "source": [
        "#1.)INHERITENCE\n",
        "#1.a)Single inheritence\n",
        "print(\"SINGLE INHERITENCE\")\n",
        "class parent:\n",
        "    def fun1(self):\n",
        "        print(\"function 1\")\n",
        "class child(parent):\n",
        "    def fun2(self):\n",
        "        print(\"function 2\")\n",
        "ob=child()\n",
        "ob.fun1()\n",
        "#1.b)Multiple inheritence\n",
        "print(\"MULTIPLE INHERITENCE\")\n",
        "class parent1:\n",
        "    def fun1(self):\n",
        "        print(\"function 1\")\n",
        "class parent2:\n",
        "    def fun2(self):\n",
        "        print(\"function 2\")\n",
        "class child(parent1,parent2):\n",
        "    def fun3(self):\n",
        "        print(\"function 3\")\n",
        "ob=child()\n",
        "ob.fun1()\n",
        "ob.fun2()\n",
        "#1.c)Multilevel inheritence\n",
        "print(\"MULTILEVEL INHERITENCE\")\n",
        "class parent1:\n",
        "    def fun1(self):\n",
        "        print(\"function 1\")\n",
        "class parent2(parent1):\n",
        "    def fun2(self):\n",
        "        print(\"function 2\")\n",
        "class child(parent2):\n",
        "    def fun3(self):\n",
        "        print(\"function 3\")\n",
        "ob=child()\n",
        "ob.fun1()\n",
        "ob.fun2()\n",
        "#1.d)hierarichal inheritence\n",
        "print(\"HIERARICHAL INHERITENCE\")\n",
        "class parent:\n",
        "    def fun1(self):\n",
        "        print(\"function 1\")\n",
        "class child1(parent):\n",
        "    def fun2(self):\n",
        "        print(\"function 2\")\n",
        "class child2(parent):\n",
        "    def fun3(self):\n",
        "        print(\"function 3\")\n",
        "ob=child2()\n",
        "ob.fun1()\n",
        "ob.fun3()\n",
        "#1.e)hybrid inheritence\n",
        "print(\"HYBRID INHERITENCE\")\n",
        "class parent1:\n",
        "    def fun1(self):\n",
        "        print(\"function 1\")\n",
        "class parent2:\n",
        "    def fun4(self):\n",
        "        print(\"function 4\")\n",
        "class child1(parent1):\n",
        "    def fun2(self):\n",
        "        print(\"function 2\")\n",
        "class child2(parent1,parent2):\n",
        "    def fun3(self):\n",
        "        print(\"function 3\")\n",
        "ob=child2()\n",
        "ob.fun1()\n",
        "ob.fun4()\n",
        "print(\"________________\")\n",
        "#2.)polymorphism\n",
        "print(\"POLYMORPHISM\")\n",
        "#overriding a variable\n",
        "class parent:\n",
        "    name=\"Rishitha\"\n",
        "class child(parent):\n",
        "    name=\"mary\"#overriding is done here\n",
        "ob=child()\n",
        "ob.name\n",
        "#overriding a method\n",
        "class parent:\n",
        "    def name(self):\n",
        "        return 0\n",
        "class child(parent):\n",
        "    def name(self):\n",
        "        return 1#overriding is done here\n",
        "ob=child()\n",
        "print(ob.name())\n",
        "ob=parent()\n",
        "print(ob.name())"
      ],
      "execution_count": null,
      "outputs": [
        {
          "output_type": "stream",
          "text": [
            "SINGLE INHERITENCE\n",
            "function 1\n",
            "MULTIPLE INHERITENCE\n",
            "function 1\n",
            "function 2\n",
            "MULTILEVEL INHERITENCE\n",
            "function 1\n",
            "function 2\n",
            "HIERARICHAL INHERITENCE\n",
            "function 1\n",
            "function 3\n",
            "HYBRID INHERITENCE\n",
            "function 1\n",
            "function 4\n",
            "________________\n",
            "POLYMORPHISM\n",
            "1\n",
            "0\n"
          ],
          "name": "stdout"
        }
      ]
    },
    {
      "cell_type": "markdown",
      "metadata": {
        "id": "bxVeGP9ruvWR"
      },
      "source": [
        "**b)** **Write a program to implement files**"
      ]
    },
    {
      "cell_type": "code",
      "metadata": {
        "colab": {
          "base_uri": "https://localhost:8080/"
        },
        "id": "QqAcPMtbuz72",
        "outputId": "2dfc37fc-50e0-4eb1-e74a-b1b24adb1038"
      },
      "source": [
        "print(\"**************** Without Constructor ****************\")\n",
        "class person:\n",
        "    pass\n",
        "male=person()\n",
        "female=person()\n",
        "male.name='Surya'\n",
        "male.age=19\n",
        "female.name='Rishitha'\n",
        "female.age=19\n",
        "print(male.__dict__)\n",
        "print(female.age)\n",
        "print(female.__dict__)\n",
        "#classes and objects with constructor\n",
        "print(\"***************** With Constructor ******************\")\n",
        "class person:\n",
        "    def __init__(self,name,age):\n",
        "        self.name=name\n",
        "        self.age=age\n",
        "male=person('Surya',19)\n",
        "female=person('Rishitha',19)\n",
        "female.lastname='Gayam'\n",
        "print(male.__dict__)#dict keyword gives all d info about object\n",
        "print(female.age)\n",
        "print(female.__dict__)"
      ],
      "execution_count": null,
      "outputs": [
        {
          "output_type": "stream",
          "text": [
            "**************** Without Constructor ****************\n",
            "{'name': 'Surya', 'age': 19}\n",
            "19\n",
            "{'name': 'Rishitha', 'age': 19}\n",
            "***************** With Constructor ******************\n",
            "{'name': 'Surya', 'age': 19}\n",
            "19\n",
            "{'name': 'Rishitha', 'age': 19, 'lastname': 'Gayam'}\n"
          ],
          "name": "stdout"
        }
      ]
    },
    {
      "cell_type": "markdown",
      "metadata": {
        "id": "wT42PYjcu93l"
      },
      "source": [
        "**c)** **Write a program to illustrate handling**"
      ]
    },
    {
      "cell_type": "code",
      "metadata": {
        "id": "PPUZBglLu-kR"
      },
      "source": [
        "# Python program to handle simple runtime error\n",
        "#Python 3\n",
        "\n",
        "a = [1, 2, 3]\n",
        "try:\n",
        "\tprint (\"Second element = %d\" %(a[1]))\n",
        "\n",
        "\t# Throws error since there are only 3 elements in array\n",
        "\tprint (\"Fourth element = %d\" %(a[3]))\n",
        "\n",
        "except IndexError:\n",
        "\tprint (\"An error occurred\")"
      ],
      "execution_count": null,
      "outputs": []
    },
    {
      "cell_type": "markdown",
      "metadata": {
        "id": "6W5OeUTZvBoX"
      },
      "source": [
        "# **Exercise: 05**"
      ]
    },
    {
      "cell_type": "markdown",
      "metadata": {
        "id": "35YYjqOevMNB"
      },
      "source": [
        "**a)** **Write a program using scikit-learn to implement K-means Clustering**"
      ]
    },
    {
      "cell_type": "code",
      "metadata": {
        "colab": {
          "base_uri": "https://localhost:8080/",
          "height": 295
        },
        "id": "AHCue25zvNJa",
        "outputId": "3b0c5c14-f528-4453-e823-6a8c64f93f19"
      },
      "source": [
        "import matplotlib.pyplot as plt\n",
        "import numpy as np\n",
        "from sklearn.datasets import make_blobs\n",
        "from sklearn.cluster import KMeans\n",
        "\n",
        "# Configuration options\n",
        "num_samples_total = 1000\n",
        "cluster_centers = [(20,20), (4,4)]\n",
        "num_classes = len(cluster_centers)\n",
        "\n",
        "# Generate data\n",
        "X, targets = make_blobs(n_samples = num_samples_total, centers = cluster_centers, n_features = num_classes, center_box=(0, 1), cluster_std = 2)\n",
        "\n",
        "np.save('./clusters.npy', X)\n",
        "X = np.load('./clusters.npy')\n",
        "\n",
        "# Fit K-means with Scikit\n",
        "kmeans = KMeans(init='k-means++', n_clusters=num_classes, n_init=10)\n",
        "kmeans.fit(X)\n",
        "\n",
        "# Predict the cluster for all the samples\n",
        "P = kmeans.predict(X)\n",
        "\n",
        "# Generate scatter plot for training data\n",
        "colors = list(map(lambda x: '#3b4cc0' if x == 1 else '#b40426', P))\n",
        "plt.scatter(X[:,0], X[:,1], c=colors, marker=\"o\", picker=True)\n",
        "plt.title('Two clusters of data')\n",
        "plt.xlabel('Temperature yesterday')\n",
        "plt.ylabel('Temperature today')\n",
        "plt.show()\n"
      ],
      "execution_count": null,
      "outputs": [
        {
          "output_type": "display_data",
          "data": {
            "image/png": "[encoded data removed]",
            "text/plain": [
              "<Figure size 432x288 with 1 Axes>"
            ]
          },
          "metadata": {
            "tags": [],
            "needs_background": "light"
          }
        }
      ]
    },
    {
      "cell_type": "markdown",
      "metadata": {
        "id": "enUPLX-jvVSP"
      },
      "source": [
        "**b.Program to calculate the entropy and the information gain .**"
      ]
    },
    {
      "cell_type": "code",
      "metadata": {
        "id": "HxatY1nIvZP7"
      },
      "source": [
        "def calc_information_gain(data, split_name, target_name):\n",
        "    \"\"\"\n",
        "    Calculate information gain given a data set, column to split on, and target\n",
        "    \"\"\"\n",
        "    # Calculate the original entropy\n",
        "    original_entropy = calc_entropy(data[target_name])\n",
        "    \n",
        "    #Find the unique values in the column\n",
        "    values = data[split_name].unique()\n",
        "    \n",
        "    \n",
        "    # Make two subsets of the data, based on the unique values\n",
        "    left_split = data[data[split_name] == values[0]]\n",
        "    right_split = data[data[split_name] == values[1]]\n",
        "    \n",
        "    # Loop through the splits and calculate the subset entropies\n",
        "    to_subtract = 0\n",
        "    for subset in [left_split, right_split]:\n",
        "        prob = (subset.shape[0] / data.shape[0]) \n",
        "        to_subtract += prob * calc_entropy(subset[target_name])\n",
        "    \n",
        "    # Return information gain\n",
        "    return original_entropy - to_subtract"
      ],
      "execution_count": null,
      "outputs": []
    },
    {
      "cell_type": "markdown",
      "metadata": {
        "id": "yHNYPhtLvgcF"
      },
      "source": [
        "**c.program to implement perception .**"
      ]
    },
    {
      "cell_type": "code",
      "metadata": {
        "colab": {
          "base_uri": "https://localhost:8080/",
          "height": 530
        },
        "id": "jWEN3_ZPvlLa",
        "outputId": "f605d01b-f081-4401-9436-c1f2633ee6b1"
      },
      "source": [
        "from sklearn import datasets\n",
        "X, y = datasets.make_blobs(n_samples=150,n_features=2,\n",
        "                           centers=2,cluster_std=1.05,\n",
        "                           random_state=2)\n",
        "#Plotting\n",
        "fig = plt.figure(figsize=(10,8))\n",
        "plt.plot(X[:, 0][y == 0], X[:, 1][y == 0], 'r^')\n",
        "plt.plot(X[:, 0][y == 1], X[:, 1][y == 1], 'bs')\n",
        "plt.xlabel(\"feature 1\")\n",
        "plt.ylabel(\"feature 2\")\n",
        "plt.title('Random Classification Data with 2 classes')"
      ],
      "execution_count": null,
      "outputs": [
        {
          "output_type": "execute_result",
          "data": {
            "text/plain": [
              "Text(0.5, 1.0, 'Random Classification Data with 2 classes')"
            ]
          },
          "metadata": {
            "tags": []
          },
          "execution_count": 7
        },
        {
          "output_type": "display_data",
          "data": {
            "image/png": "[encoded data removed]",
            "text/plain": [
              "<Figure size 720x576 with 1 Axes>"
            ]
          },
          "metadata": {
            "tags": [],
            "needs_background": "light"
          }
        }
      ]
    },
    {
      "cell_type": "markdown",
      "metadata": {
        "id": "KEhlOPouvyqA"
      },
      "source": [
        "# **Exercise: 06**"
      ]
    },
    {
      "cell_type": "markdown",
      "metadata": {
        "id": "VaRlORDEv39t"
      },
      "source": [
        "**a.Generate a decision tree.Find the depth of the decision trees and observe the results , then propose some changes in Decision tree Classifier function to limit .**"
      ]
    },
    {
      "cell_type": "code",
      "metadata": {
        "id": "rhFSwEnFv7Fn"
      },
      "source": [
        "import numpy as np\n",
        "import pandas as pd\n",
        "from sklearn.tree import DecisionTreeClassifier\n",
        "from sklearn.model_selection import train_test_split\n",
        "from sklearn.datasets import load_iris"
      ],
      "execution_count": null,
      "outputs": []
    },
    {
      "cell_type": "code",
      "metadata": {
        "colab": {
          "base_uri": "https://localhost:8080/"
        },
        "id": "KgtMula0wc_2",
        "outputId": "b694761c-9d07-4f43-d528-e7397f504b58"
      },
      "source": [
        "iris_data = load_iris() \n",
        "iris=pd.DataFrame(iris_data.data)\n",
        "\n",
        "#priting features name of iris data \n",
        "print (\"Features Name : \", iris_data.feature_names) \n",
        "\n",
        "#shape of datasets \n",
        "print (\"Dataset Shape: \", iris.shape) \n",
        "\n",
        "#first five sample \n",
        "print (\"Dataset: \",iris.head())"
      ],
      "execution_count": null,
      "outputs": [
        {
          "output_type": "stream",
          "text": [
            "Features Name :  ['sepal length (cm)', 'sepal width (cm)', 'petal length (cm)', 'petal width (cm)']\n",
            "Dataset Shape:  (150, 4)\n",
            "Dataset:       0    1    2    3\n",
            "0  5.1  3.5  1.4  0.2\n",
            "1  4.9  3.0  1.4  0.2\n",
            "2  4.7  3.2  1.3  0.2\n",
            "3  4.6  3.1  1.5  0.2\n",
            "4  5.0  3.6  1.4  0.2\n"
          ],
          "name": "stdout"
        }
      ]
    },
    {
      "cell_type": "code",
      "metadata": {
        "id": "P69__rMiwiCK"
      },
      "source": [
        "X = iris.values[:, 0:4] \n",
        "Y = iris_data.target\n",
        "X_train, X_test, y_train, y_test = train_test_split(X, Y, test_size = 0.3, random_state = 100)"
      ],
      "execution_count": null,
      "outputs": []
    },
    {
      "cell_type": "code",
      "metadata": {
        "colab": {
          "base_uri": "https://localhost:8080/"
        },
        "id": "QAGqsTgGwn9y",
        "outputId": "7c1fd7b0-eecc-41dd-9516-e63487dd43c7"
      },
      "source": [
        "classifier = DecisionTreeClassifier(max_depth=8,random_state= 44)\n",
        "classifier.fit(X_train,y_train)\n",
        "print('Depth',classifier.get_depth())\n",
        "print('Train',classifier.score(X_train,y_train))\n",
        "print('Test',classifier.score(X_test,y_test))"
      ],
      "execution_count": null,
      "outputs": [
        {
          "output_type": "stream",
          "text": [
            "Depth 4\n",
            "Train 1.0\n",
            "Test 0.9555555555555556\n"
          ],
          "name": "stdout"
        }
      ]
    },
    {
      "cell_type": "markdown",
      "metadata": {
        "id": "wW8jHA14wRAZ"
      },
      "source": [
        "**b. Occupancy estimator  using random forest .**"
      ]
    },
    {
      "cell_type": "code",
      "metadata": {
        "id": "Hq7TrZ6jwWg7"
      },
      "source": [
        ""
      ],
      "execution_count": null,
      "outputs": []
    },
    {
      "cell_type": "markdown",
      "metadata": {
        "id": "708ooVTmwz9q"
      },
      "source": [
        "# **Exercise: 07**"
      ]
    },
    {
      "cell_type": "markdown",
      "metadata": {
        "id": "ghq3SXBjw57o"
      },
      "source": [
        "**a.Calculating with matrices using numpy : inv,pinv,matrix_rank,solve,lstsq,svd,transpose,eig,sort,linspace,meshgrid,mgrid,ogrid,concatenate,tile,squeeze,integrate .**"
      ]
    },
    {
      "cell_type": "code",
      "metadata": {
        "colab": {
          "base_uri": "https://localhost:8080/"
        },
        "id": "7IEmn6s8w-kA",
        "outputId": "842c1e44-5b6c-442d-b731-2ce16ade0578"
      },
      "source": [
        "#inv\n",
        "import numpy as np\n",
        "A = np.array([[3, 1, 2],\n",
        "\t\t\t[5, -1, 3],\n",
        "\t\t\t[2, 9, 4]])\n",
        "print(np.linalg.inv(A))"
      ],
      "execution_count": null,
      "outputs": [
        {
          "output_type": "stream",
          "text": [
            "[[ 2.38461538 -1.07692308 -0.38461538]\n",
            " [ 1.07692308 -0.61538462 -0.07692308]\n",
            " [-3.61538462  1.92307692  0.61538462]]\n"
          ],
          "name": "stdout"
        }
      ]
    },
    {
      "cell_type": "code",
      "metadata": {
        "colab": {
          "base_uri": "https://localhost:8080/"
        },
        "id": "IUM90Y0ExGgO",
        "outputId": "3323f5b9-bd0d-4871-eef3-9bd91eff2873"
      },
      "source": [
        "#pinv\n",
        "import numpy as np\n",
        "A = np.array([[1, 4, 7],\n",
        "\t\t\t[5, 4, -3],\n",
        "\t\t\t[-2, 5, 4]])\n",
        "print(np.linalg.pinv(A))"
      ],
      "execution_count": null,
      "outputs": [
        {
          "output_type": "stream",
          "text": [
            "[[ 0.15048544  0.09223301 -0.19417476]\n",
            " [-0.06796117  0.08737864  0.18446602]\n",
            " [ 0.16019417 -0.0631068  -0.0776699 ]]\n"
          ],
          "name": "stdout"
        }
      ]
    },
    {
      "cell_type": "code",
      "metadata": {
        "colab": {
          "base_uri": "https://localhost:8080/"
        },
        "id": "qPcXsosZxMCE",
        "outputId": "6fb47d2c-ebde-4259-c278-a94d6e28ef9f"
      },
      "source": [
        "#matrix_rank\n",
        "from numpy.linalg import matrix_rank\n",
        "A = np.array([[1, 4, 7],\n",
        "\t\t\t[5, 4, -3],\n",
        "\t\t\t[-2, 5, 4]])\n",
        "print(np.linalg.matrix_rank(A))"
      ],
      "execution_count": null,
      "outputs": [
        {
          "output_type": "stream",
          "text": [
            "3\n"
          ],
          "name": "stdout"
        }
      ]
    },
    {
      "cell_type": "code",
      "metadata": {
        "colab": {
          "base_uri": "https://localhost:8080/"
        },
        "id": "gHS-9g-cxSOc",
        "outputId": "c10aa066-6af3-414e-dc9c-25dab0aeecdf"
      },
      "source": [
        "#solve\n",
        "a = np.array([[3, 5], [5, 9]])\n",
        "b = np.array([3, 4])\n",
        "x = np.linalg.solve(a, b)\n",
        "x"
      ],
      "execution_count": null,
      "outputs": [
        {
          "output_type": "execute_result",
          "data": {
            "text/plain": [
              "array([ 3.5, -1.5])"
            ]
          },
          "metadata": {
            "tags": []
          },
          "execution_count": 17
        }
      ]
    },
    {
      "cell_type": "code",
      "metadata": {
        "colab": {
          "base_uri": "https://localhost:8080/"
        },
        "id": "nmqkIsoixYIT",
        "outputId": "d2d64730-9790-4cd4-d4ab-acfa217b9d9c"
      },
      "source": [
        "# lstsq\n",
        "x = np.array([[0, 1], [2, 3]])\n",
        "y = np.array([[-1, 0.2], [0.9, 2.1]])\n",
        "np.linalg.lstsq(x,y)"
      ],
      "execution_count": null,
      "outputs": [
        {
          "output_type": "stream",
          "text": [
            "/usr/local/lib/python3.7/dist-packages/ipykernel_launcher.py:4: FutureWarning: `rcond` parameter will change to the default of machine precision times ``max(M, N)`` where M and N are the input matrix dimensions.\n",
            "To use the future default and silence this warning we advise to pass `rcond=None`, to keep using the old, explicitly pass `rcond=-1`.\n",
            "  after removing the cwd from sys.path.\n"
          ],
          "name": "stderr"
        },
        {
          "output_type": "execute_result",
          "data": {
            "text/plain": [
              "(array([[ 1.95,  0.75],\n",
              "        [-1.  ,  0.2 ]]),\n",
              " array([], dtype=float64),\n",
              " 2,\n",
              " array([3.70245917, 0.54018151]))"
            ]
          },
          "metadata": {
            "tags": []
          },
          "execution_count": 18
        }
      ]
    },
    {
      "cell_type": "code",
      "metadata": {
        "colab": {
          "base_uri": "https://localhost:8080/"
        },
        "id": "Yi4tivbixhBr",
        "outputId": "fb78e6de-cf89-478d-9d0e-446cdfb5b740"
      },
      "source": [
        "#svd\n",
        "a = np.random.randn(9, 6) + 1j*np.random.randn(9, 6)\n",
        "b = np.random.randn(2, 7, 8, 3) + 1j*np.random.randn(2, 7, 8, 3)\n",
        "u, s, vh = np.linalg.svd(a, full_matrices=True)\n",
        "u.shape, s.shape, vh.shape"
      ],
      "execution_count": null,
      "outputs": [
        {
          "output_type": "execute_result",
          "data": {
            "text/plain": [
              "((9, 9), (6,), (6, 6))"
            ]
          },
          "metadata": {
            "tags": []
          },
          "execution_count": 19
        }
      ]
    },
    {
      "cell_type": "code",
      "metadata": {
        "colab": {
          "base_uri": "https://localhost:8080/"
        },
        "id": "Y4piFpNhxi0x",
        "outputId": "8c5080e1-53c2-4859-f537-29bae666c6b3"
      },
      "source": [
        "#transpose\n",
        "a = np.array([[1, 2], [3, 4]])\n",
        "a.transpose()"
      ],
      "execution_count": null,
      "outputs": [
        {
          "output_type": "execute_result",
          "data": {
            "text/plain": [
              "array([[1, 3],\n",
              "       [2, 4]])"
            ]
          },
          "metadata": {
            "tags": []
          },
          "execution_count": 20
        }
      ]
    },
    {
      "cell_type": "code",
      "metadata": {
        "colab": {
          "base_uri": "https://localhost:8080/"
        },
        "id": "N54e_eoQxm3k",
        "outputId": "8060fb71-ba7d-4abd-d9ca-fdb9dfbe2cc1"
      },
      "source": [
        "#eig\n",
        "from numpy import linalg as LA\n",
        "w, v = LA.eig(np.diag((1, 2, 3)))\n",
        "v"
      ],
      "execution_count": null,
      "outputs": [
        {
          "output_type": "execute_result",
          "data": {
            "text/plain": [
              "array([[1., 0., 0.],\n",
              "       [0., 1., 0.],\n",
              "       [0., 0., 1.]])"
            ]
          },
          "metadata": {
            "tags": []
          },
          "execution_count": 21
        }
      ]
    },
    {
      "cell_type": "code",
      "metadata": {
        "colab": {
          "base_uri": "https://localhost:8080/"
        },
        "id": "7-FvnWuIxtmS",
        "outputId": "7ff8112d-de6c-4216-e5fd-b29c3cbe808f"
      },
      "source": [
        "#sort\n",
        "a = np.array([[1,4],[3,1]])\n",
        "np.sort(a) "
      ],
      "execution_count": null,
      "outputs": [
        {
          "output_type": "execute_result",
          "data": {
            "text/plain": [
              "array([[1, 4],\n",
              "       [1, 3]])"
            ]
          },
          "metadata": {
            "tags": []
          },
          "execution_count": 22
        }
      ]
    },
    {
      "cell_type": "code",
      "metadata": {
        "colab": {
          "base_uri": "https://localhost:8080/"
        },
        "id": "p6fqO_ImxxFx",
        "outputId": "caa18cdc-d83a-4ec3-9ee2-a06d00b2a916"
      },
      "source": [
        "#linspace\n",
        "a=np.linspace(2.0, 3.0, num=7)\n",
        "a"
      ],
      "execution_count": null,
      "outputs": [
        {
          "output_type": "execute_result",
          "data": {
            "text/plain": [
              "array([2.        , 2.16666667, 2.33333333, 2.5       , 2.66666667,\n",
              "       2.83333333, 3.        ])"
            ]
          },
          "metadata": {
            "tags": []
          },
          "execution_count": 23
        }
      ]
    },
    {
      "cell_type": "code",
      "metadata": {
        "colab": {
          "base_uri": "https://localhost:8080/"
        },
        "id": "VYpkrO2wx0KK",
        "outputId": "0c1bfd2d-9c9d-46cc-d35c-09b9fdd30534"
      },
      "source": [
        "#meshgrid\n",
        "nx, ny = (3, 3)\n",
        "x = np.linspace(0, 5, nx)\n",
        "y = np.linspace(0, 5, ny)\n",
        "xv, yv = np.meshgrid(x, y)\n",
        "print(xv,\"\\n\")\n",
        "print(yv)"
      ],
      "execution_count": null,
      "outputs": [
        {
          "output_type": "stream",
          "text": [
            "[[0.  2.5 5. ]\n",
            " [0.  2.5 5. ]\n",
            " [0.  2.5 5. ]] \n",
            "\n",
            "[[0.  0.  0. ]\n",
            " [2.5 2.5 2.5]\n",
            " [5.  5.  5. ]]\n"
          ],
          "name": "stdout"
        }
      ]
    },
    {
      "cell_type": "code",
      "metadata": {
        "colab": {
          "base_uri": "https://localhost:8080/"
        },
        "id": "KB8vLV_xx4WW",
        "outputId": "3e7ca349-cf7a-44e2-a718-d2c9ab377d92"
      },
      "source": [
        "#mgrid\n",
        "np.mgrid[0:3,0:7]"
      ],
      "execution_count": null,
      "outputs": [
        {
          "output_type": "execute_result",
          "data": {
            "text/plain": [
              "array([[[0, 0, 0, 0, 0, 0, 0],\n",
              "        [1, 1, 1, 1, 1, 1, 1],\n",
              "        [2, 2, 2, 2, 2, 2, 2]],\n",
              "\n",
              "       [[0, 1, 2, 3, 4, 5, 6],\n",
              "        [0, 1, 2, 3, 4, 5, 6],\n",
              "        [0, 1, 2, 3, 4, 5, 6]]])"
            ]
          },
          "metadata": {
            "tags": []
          },
          "execution_count": 25
        }
      ]
    },
    {
      "cell_type": "code",
      "metadata": {
        "colab": {
          "base_uri": "https://localhost:8080/"
        },
        "id": "RMAw-TLYx9gu",
        "outputId": "c689553c-2d9a-4c88-81d8-1ab444a80e7c"
      },
      "source": [
        "#ogrid\n",
        "from numpy import ogrid\n",
        "ogrid[0:3,0:7]"
      ],
      "execution_count": null,
      "outputs": [
        {
          "output_type": "execute_result",
          "data": {
            "text/plain": [
              "[array([[0],\n",
              "        [1],\n",
              "        [2]]), array([[0, 1, 2, 3, 4, 5, 6]])]"
            ]
          },
          "metadata": {
            "tags": []
          },
          "execution_count": 26
        }
      ]
    },
    {
      "cell_type": "code",
      "metadata": {
        "colab": {
          "base_uri": "https://localhost:8080/"
        },
        "id": "wrUZavEAyAzk",
        "outputId": "9012b0d6-4fb0-45cd-d834-8d95fb35a1fd"
      },
      "source": [
        "#concatenate\n",
        "a = np.array([[3, 7], [6, 8]])\n",
        "b = np.array([[11, 15]])\n",
        "np.concatenate((a, b), axis=0)"
      ],
      "execution_count": null,
      "outputs": [
        {
          "output_type": "execute_result",
          "data": {
            "text/plain": [
              "array([[ 3,  7],\n",
              "       [ 6,  8],\n",
              "       [11, 15]])"
            ]
          },
          "metadata": {
            "tags": []
          },
          "execution_count": 27
        }
      ]
    },
    {
      "cell_type": "code",
      "metadata": {
        "colab": {
          "base_uri": "https://localhost:8080/"
        },
        "id": "aE5wluTjyFOT",
        "outputId": "a112b75e-dc94-48ea-e28f-5b5d9c297eaf"
      },
      "source": [
        "#tile\n",
        "a = np.array([0, 1, 2])\n",
        "np.tile(a, [2,3])"
      ],
      "execution_count": null,
      "outputs": [
        {
          "output_type": "execute_result",
          "data": {
            "text/plain": [
              "array([[0, 1, 2, 0, 1, 2, 0, 1, 2],\n",
              "       [0, 1, 2, 0, 1, 2, 0, 1, 2]])"
            ]
          },
          "metadata": {
            "tags": []
          },
          "execution_count": 28
        }
      ]
    },
    {
      "cell_type": "code",
      "metadata": {
        "colab": {
          "base_uri": "https://localhost:8080/"
        },
        "id": "Olw3vJWbyFMd",
        "outputId": "aae703a6-5079-4d84-e931-0fefcbf7ce36"
      },
      "source": [
        "#squeeze\n",
        "x = np.array([[[0,2], [1,4], [2,3]]])\n",
        "x.shape\n",
        "np.squeeze(x).shape"
      ],
      "execution_count": null,
      "outputs": [
        {
          "output_type": "execute_result",
          "data": {
            "text/plain": [
              "(3, 2)"
            ]
          },
          "metadata": {
            "tags": []
          },
          "execution_count": 29
        }
      ]
    },
    {
      "cell_type": "code",
      "metadata": {
        "colab": {
          "base_uri": "https://localhost:8080/"
        },
        "id": "jl3NdlSdyOpQ",
        "outputId": "e2bc878c-d57b-4295-de6a-c463997eec1c"
      },
      "source": [
        "#integrate\n",
        "def integrate(f, a, b, N):\n",
        "    x = np.linspace(a, b, N)\n",
        "    fx = f(x)\n",
        "    area = np.sum(fx)*(b-a)/N\n",
        "    return area\n",
        "integrate(np.sin, 0, np.pi/2, 100)"
      ],
      "execution_count": null,
      "outputs": [
        {
          "output_type": "execute_result",
          "data": {
            "text/plain": [
              "0.9978332121772983"
            ]
          },
          "metadata": {
            "tags": []
          },
          "execution_count": 30
        }
      ]
    },
    {
      "cell_type": "markdown",
      "metadata": {
        "id": "0utr9VMVyWQq"
      },
      "source": [
        "# **Exercise: 08**"
      ]
    },
    {
      "cell_type": "markdown",
      "metadata": {
        "id": "G-DOA6cryczg"
      },
      "source": [
        "**a) Program using panda**"
      ]
    },
    {
      "cell_type": "code",
      "metadata": {
        "colab": {
          "base_uri": "https://localhost:8080/"
        },
        "id": "gNicTl6_yh-V",
        "outputId": "d17b28da-2e4b-4c88-f45b-93248caa0255"
      },
      "source": [
        "import pandas as pd\n",
        "ds = pd.Series([2, 4, 6, 8, 10])\n",
        "print(\"Pandas Series and type\")\n",
        "print(ds)\n",
        "print(type(ds))\n",
        "print(\"Convert Pandas Series to Python list\")\n",
        "print(ds.tolist())\n",
        "print(type(ds.tolist()))"
      ],
      "execution_count": null,
      "outputs": [
        {
          "output_type": "stream",
          "text": [
            "Pandas Series and type\n",
            "0     2\n",
            "1     4\n",
            "2     6\n",
            "3     8\n",
            "4    10\n",
            "dtype: int64\n",
            "<class 'pandas.core.series.Series'>\n",
            "Convert Pandas Series to Python list\n",
            "[2, 4, 6, 8, 10]\n",
            "<class 'list'>\n"
          ],
          "name": "stdout"
        }
      ]
    },
    {
      "cell_type": "markdown",
      "metadata": {
        "id": "o0Nw54A_yvsb"
      },
      "source": [
        "**b) Program using matplotlib – use minimum 5 plotting techniques** "
      ]
    },
    {
      "cell_type": "code",
      "metadata": {
        "colab": {
          "base_uri": "https://localhost:8080/",
          "height": 265
        },
        "id": "hAcjZeexyxKC",
        "outputId": "9da2451d-c623-4f95-804d-fa05a8afe6a3"
      },
      "source": [
        "#pyplot\n",
        "import matplotlib.pyplot as plt\n",
        "import numpy as np\n",
        "xpoints = np.array([3, 7])\n",
        "ypoints = np.array([5, 25])\n",
        "plt.plot(xpoints, ypoints)\n",
        "plt.show()"
      ],
      "execution_count": null,
      "outputs": [
        {
          "output_type": "display_data",
          "data": {
            "image/png": "[encoded data removed]",
            "text/plain": [
              "<Figure size 432x288 with 1 Axes>"
            ]
          },
          "metadata": {
            "tags": [],
            "needs_background": "light"
          }
        }
      ]
    },
    {
      "cell_type": "code",
      "metadata": {
        "colab": {
          "base_uri": "https://localhost:8080/",
          "height": 265
        },
        "id": "KfdrWqfAy3Sa",
        "outputId": "1677cd65-5a07-41bc-a829-778c308667ce"
      },
      "source": [
        "#subplot\n",
        "import matplotlib.pyplot as plt\n",
        "import numpy as np\n",
        "x = np.array([0, 2, 4, 6])\n",
        "y = np.array([2, 8, 4, 10])\n",
        "plt.subplot(1, 2, 1)\n",
        "plt.plot(x,y)\n",
        "\n",
        "x = np.array([0, 1, 5, 8])\n",
        "y = np.array([11, 22, 33, 44])\n",
        "plt.subplot(2, 3, 3)\n",
        "plt.plot(x,y)\n",
        "\n",
        "plt.show()"
      ],
      "execution_count": null,
      "outputs": [
        {
          "output_type": "display_data",
          "data": {
            "image/png": "[encoded data removed]",
            "text/plain": [
              "<Figure size 432x288 with 2 Axes>"
            ]
          },
          "metadata": {
            "tags": [],
            "needs_background": "light"
          }
        }
      ]
    },
    {
      "cell_type": "code",
      "metadata": {
        "colab": {
          "base_uri": "https://localhost:8080/",
          "height": 265
        },
        "id": "Thy2s306y82Z",
        "outputId": "86ba0c9f-3af3-43c8-cd11-3693767d5dc5"
      },
      "source": [
        "#scatter\n",
        "import matplotlib.pyplot as plt\n",
        "import numpy as np\n",
        "x = np.array([8,6,7,9,3,17,2,9,4,16,12,6,9])\n",
        "y = np.array([91,82,89,84,119,76,113,97,99,78,77,95,66])\n",
        "\n",
        "plt.scatter(x, y)\n",
        "plt.show()"
      ],
      "execution_count": null,
      "outputs": [
        {
          "output_type": "display_data",
          "data": {
            "image/png": "[encoded data removed]",
            "text/plain": [
              "<Figure size 432x288 with 1 Axes>"
            ]
          },
          "metadata": {
            "tags": [],
            "needs_background": "light"
          }
        }
      ]
    },
    {
      "cell_type": "code",
      "metadata": {
        "colab": {
          "base_uri": "https://localhost:8080/",
          "height": 265
        },
        "id": "OW60R3ZQzBTY",
        "outputId": "e8b3f79c-b11a-4a55-b881-5fa20a2cda57"
      },
      "source": [
        "#bar\n",
        "import matplotlib.pyplot as plt\n",
        "import numpy as np\n",
        "x = np.array([\"USA\", \"RUSSIA\", \"CANADA\", \"INDIA\"])\n",
        "y = np.array([4, 9, 6, 2])\n",
        "\n",
        "plt.bar(x,y)\n",
        "plt.show()"
      ],
      "execution_count": null,
      "outputs": [
        {
          "output_type": "display_data",
          "data": {
            "image/png": "[encoded data removed]",
            "text/plain": [
              "<Figure size 432x288 with 1 Axes>"
            ]
          },
          "metadata": {
            "tags": [],
            "needs_background": "light"
          }
        }
      ]
    },
    {
      "cell_type": "code",
      "metadata": {
        "colab": {
          "base_uri": "https://localhost:8080/",
          "height": 265
        },
        "id": "iTpud2BnzIC4",
        "outputId": "2bbc64d3-6178-4226-abee-6a30d8d6236a"
      },
      "source": [
        "#histogram\n",
        "import numpy as np\n",
        "import matplotlib.pyplot as plt\n",
        "x = np.random.normal(111, 20, 199)\n",
        "\n",
        "plt.hist(x)\n",
        "plt.show()"
      ],
      "execution_count": null,
      "outputs": [
        {
          "output_type": "display_data",
          "data": {
            "image/png": "[encoded data removed]",
            "text/plain": [
              "<Figure size 432x288 with 1 Axes>"
            ]
          },
          "metadata": {
            "tags": [],
            "needs_background": "light"
          }
        }
      ]
    },
    {
      "cell_type": "code",
      "metadata": {
        "colab": {
          "base_uri": "https://localhost:8080/",
          "height": 264
        },
        "id": "et7gv0iyzNMA",
        "outputId": "dada2a95-7935-4447-c890-bc3de106c52a"
      },
      "source": [
        "#pie\n",
        "import matplotlib.pyplot as plt\n",
        " \n",
        "days = [1,2,3,4,5]\n",
        " \n",
        "US =[9,5,6,10,8]\n",
        "INDIA = [5,8,8,7,6]\n",
        "FRANCE =[7,8,7,5,6]\n",
        "JAPAN = [5,7,8,8,11]\n",
        "slices = [38,34,33,39]\n",
        "countries = ['US','INDIA','FRANCE','JAPAN']\n",
        "cols = ['c','g','r','b']\n",
        " \n",
        "plt.pie(slices,\n",
        "  labels=countries,\n",
        "  colors=cols,\n",
        "  startangle=90,\n",
        "  shadow= True,\n",
        "  explode=(0,0.1,0,0),\n",
        "  autopct='%1.1f%%')\n",
        " \n",
        "plt.title('Pie Plot')\n",
        "plt.show()"
      ],
      "execution_count": null,
      "outputs": [
        {
          "output_type": "display_data",
          "data": {
            "image/png": "[encoded data removed]",
            "text/plain": [
              "<Figure size 432x288 with 1 Axes>"
            ]
          },
          "metadata": {
            "tags": []
          }
        }
      ]
    },
    {
      "cell_type": "markdown",
      "metadata": {
        "id": "nrQ8TX58zX_8"
      },
      "source": [
        "#**Exercise : 09**"
      ]
    },
    {
      "cell_type": "markdown",
      "metadata": {
        "id": "4RJCzvobzfmO"
      },
      "source": [
        "**a) Graph using matplotlib**"
      ]
    },
    {
      "cell_type": "code",
      "metadata": {
        "colab": {
          "base_uri": "https://localhost:8080/",
          "height": 295
        },
        "id": "lxx90kz3zjFq",
        "outputId": "efe16380-f20e-46dd-b8d0-4e77d8ac908c"
      },
      "source": [
        "# importing the required module\n",
        "import matplotlib.pyplot as plt\n",
        "\n",
        "# x axis values\n",
        "x = [1,2,3]\n",
        "# corresponding y axis values\n",
        "y = [2,4,1]\n",
        "\n",
        "# plotting the points\n",
        "plt.plot(x, y)\n",
        "\n",
        "# naming the x axis\n",
        "plt.xlabel('x - axis')\n",
        "# naming the y axis\n",
        "plt.ylabel('y - axis')\n",
        "\n",
        "# giving a title to my graph\n",
        "plt.title('My first graph!')\n",
        "\n",
        "# function to show the plot\n",
        "plt.show()\n"
      ],
      "execution_count": null,
      "outputs": [
        {
          "output_type": "display_data",
          "data": {
            "image/png": "[encoded data removed]",
            "text/plain": [
              "<Figure size 432x288 with 1 Axes>"
            ]
          },
          "metadata": {
            "tags": [],
            "needs_background": "light"
          }
        }
      ]
    },
    {
      "cell_type": "markdown",
      "metadata": {
        "id": "yfVoEkzazphn"
      },
      "source": [
        "#**Exercise : 10**"
      ]
    },
    {
      "cell_type": "markdown",
      "metadata": {
        "id": "SJ6KJxrlzu1C"
      },
      "source": [
        "**a) Vector using matplotlib**"
      ]
    },
    {
      "cell_type": "code",
      "metadata": {
        "colab": {
          "base_uri": "https://localhost:8080/",
          "height": 1000
        },
        "id": "TI5y8eS6zyce",
        "outputId": "90793ecc-6d84-4265-bd25-360ef8adf620"
      },
      "source": [
        "import numpy as np\n",
        "import matplotlib.pyplot as plt\n",
        "M = np.array([[1,1],[-2,2],[4,-7]])\n",
        "\n",
        "print(\"vector:1\")\n",
        "print(M[0,:])\n",
        "# print(\"vector:2\")\n",
        "# print(M[1,:])\n",
        "rows,cols = M.T.shape\n",
        "print(cols)\n",
        "\n",
        "for i,l in enumerate(range(0,cols)):\n",
        "    print(\"Iteration: {}-{}\".format(i,l))\n",
        "    print(\"vector:{}\".format(i))\n",
        "    print(M[i,:])\n",
        "    v1 = [0,0],[M[i,0],M[i,1]]\n",
        "    # v1 = [M[i,0]],[M[i,1]]\n",
        "    print(v1)\n",
        "    plt.figure(i)\n",
        "    plt.plot(v1)\n",
        "    plt.show()"
      ],
      "execution_count": null,
      "outputs": [
        {
          "output_type": "stream",
          "text": [
            "vector:1\n",
            "[1 1]\n",
            "3\n",
            "Iteration: 0-0\n",
            "vector:0\n",
            "[1 1]\n",
            "([0, 0], [1, 1])\n"
          ],
          "name": "stdout"
        },
        {
          "output_type": "display_data",
          "data": {
            "image/png": "[encoded data removed]",
            "text/plain": [
              "<Figure size 432x288 with 1 Axes>"
            ]
          },
          "metadata": {
            "tags": [],
            "needs_background": "light"
          }
        },
        {
          "output_type": "stream",
          "text": [
            "Iteration: 1-1\n",
            "vector:1\n",
            "[-2  2]\n",
            "([0, 0], [-2, 2])\n"
          ],
          "name": "stdout"
        },
        {
          "output_type": "display_data",
          "data": {
            "image/png": "[encoded data removed]",
            "text/plain": [
              "<Figure size 432x288 with 1 Axes>"
            ]
          },
          "metadata": {
            "tags": [],
            "needs_background": "light"
          }
        },
        {
          "output_type": "stream",
          "text": [
            "Iteration: 2-2\n",
            "vector:2\n",
            "[ 4 -7]\n",
            "([0, 0], [4, -7])\n"
          ],
          "name": "stdout"
        },
        {
          "output_type": "display_data",
          "data": {
            "image/png": "[encoded data removed]",
            "text/plain": [
              "<Figure size 432x288 with 1 Axes>"
            ]
          },
          "metadata": {
            "tags": [],
            "needs_background": "light"
          }
        }
      ]
    },
    {
      "cell_type": "markdown",
      "metadata": {
        "id": "kh7lgkGxz48p"
      },
      "source": [
        "#**Exercise : 11**"
      ]
    },
    {
      "cell_type": "markdown",
      "metadata": {
        "id": "h5M0MO3Kz-Ka"
      },
      "source": [
        "**a) Program to estimating occupancy using decision tree**"
      ]
    },
    {
      "cell_type": "code",
      "metadata": {
        "id": "ZWfTftsu0CmK"
      },
      "source": [
        ""
      ],
      "execution_count": null,
      "outputs": []
    }
  ]
}